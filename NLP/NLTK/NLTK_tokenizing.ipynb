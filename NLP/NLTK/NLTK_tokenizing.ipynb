{
 "cells": [
  {
   "cell_type": "code",
   "execution_count": 1,
   "metadata": {},
   "outputs": [
    {
     "name": "stdout",
     "output_type": "stream",
     "text": [
      "showing info https://raw.githubusercontent.com/nltk/nltk_data/gh-pages/index.xml\n",
      "showing info https://raw.githubusercontent.com/nltk/nltk_data/gh-pages/index.xml\n"
     ]
    },
    {
     "data": {
      "text/plain": [
       "True"
      ]
     },
     "execution_count": 1,
     "metadata": {},
     "output_type": "execute_result"
    }
   ],
   "source": [
    "''' Tutorial code from Sentdex : https://www.youtube.com/watch?v=FLZvOKSCkxY&list=PLQVvvaa0QuDf2JswnfiGkliBInZnIC4HL\n",
    "\n",
    "practiced and modified by Kin\n",
    "\n",
    "'''\n",
    "import nltk\n",
    "\n",
    "nltk.download()\n",
    "\n",
    "# tokenizing - word tokenizers / phrase tokenizers / sentence tokenizers\n",
    "# corpora - body of text\n",
    "# lexicon - words and their meanings\n",
    "\n",
    "''' set the NLTK_DATA environment variable to specify the location of the data'''\n",
    "\n",
    "nltk.data.path.append(\"/Volumes/JetDrive/playground/NLP/NLTK/nltk_data/\")"
   ]
  },
  {
   "cell_type": "code",
   "execution_count": 8,
   "metadata": {},
   "outputs": [
    {
     "name": "stdout",
     "output_type": "stream",
     "text": [
      "['Hello Mr. Smith, how are you doing today?', 'The weather is great and Python is awesome.', 'The sky is blue.']\n"
     ]
    }
   ],
   "source": [
    "from nltk import sent_tokenize, word_tokenize\n",
    "\n",
    "example_text = \"Hello Mr. Smith, how are you doing today? The weather is great and Python is awesome. The sky is blue.\"\n",
    "\n",
    "print(sent_tokenize(example_text))"
   ]
  },
  {
   "cell_type": "code",
   "execution_count": 9,
   "metadata": {},
   "outputs": [
    {
     "name": "stdout",
     "output_type": "stream",
     "text": [
      "['Hello', 'Mr.', 'Smith', ',', 'how', 'are', 'you', 'doing', 'today', '?', 'The', 'weather', 'is', 'great', 'and', 'Python', 'is', 'awesome', '.', 'The', 'sky', 'is', 'blue', '.']\n"
     ]
    }
   ],
   "source": [
    "print(word_tokenize(example_text))"
   ]
  },
  {
   "cell_type": "code",
   "execution_count": 10,
   "metadata": {
    "collapsed": true
   },
   "outputs": [],
   "source": [
    "from nltk.corpus import stopwords\n",
    "from nltk.tokenize import word_tokenize\n",
    "\n",
    "example_sent = \"this is an example showing off stop word filtration.\"\n",
    "stop_words = set(stopwords.words(\"english\"))"
   ]
  },
  {
   "cell_type": "code",
   "execution_count": 12,
   "metadata": {},
   "outputs": [
    {
     "name": "stdout",
     "output_type": "stream",
     "text": [
      "{'s', 'only', 'be', 'shouldn', 'is', 'during', 'once', 'now', 'my', 'by', 'on', 'too', 'herself', 'are', 'myself', 'after', 'm', 'ourselves', 'this', 'he', 'have', 'over', 'so', 'shan', 'further', 'can', 'been', 'wasn', 'll', 'she', 'if', 'very', 'an', 'couldn', 'all', 'itself', 'those', 'each', 'we', 'y', 'its', 'both', 'd', 'about', 'wouldn', 'for', 'more', 'ain', 'i', 'where', 've', 'yourself', 'the', 'what', 'nor', 'aren', 'against', 'it', 'few', 'o', 'to', 'not', 'am', 't', 'doesn', 'who', 'with', 'between', 'did', 'same', 'and', 'into', 'such', 'didn', 'weren', 'down', 'yourselves', 'when', 'from', 'hadn', 'won', 'why', 'just', 'should', 'has', 'in', 'up', 'how', 'will', 'any', 'there', 'these', 'was', 'as', 'needn', 'their', 'before', 'him', 'below', 'isn', 'hers', 'most', 'while', 'or', 'our', 'which', 'through', 'don', 'mightn', 'hasn', 'other', 'until', 'yours', 'a', 'them', 'having', 'do', 'at', 'than', 'himself', 'again', 'ours', 'but', 'ma', 'no', 'haven', 'you', 'whom', 'under', 'some', 'were', 'they', 'of', 'theirs', 're', 'mustn', 'being', 'that', 'above', 'then', 'his', 'themselves', 'her', 'doing', 'out', 'your', 'here', 'off', 'does', 'had', 'me', 'own', 'because'}\n"
     ]
    }
   ],
   "source": [
    "print(stop_words)"
   ]
  },
  {
   "cell_type": "code",
   "execution_count": null,
   "metadata": {
    "collapsed": true
   },
   "outputs": [],
   "source": []
  }
 ],
 "metadata": {
  "anaconda-cloud": {},
  "kernelspec": {
   "display_name": "Python [default]",
   "language": "python",
   "name": "python3"
  },
  "language_info": {
   "codemirror_mode": {
    "name": "ipython",
    "version": 3
   },
   "file_extension": ".py",
   "mimetype": "text/x-python",
   "name": "python",
   "nbconvert_exporter": "python",
   "pygments_lexer": "ipython3",
   "version": "3.5.2"
  }
 },
 "nbformat": 4,
 "nbformat_minor": 1
}
