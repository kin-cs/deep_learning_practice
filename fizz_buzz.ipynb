{
 "cells": [
  {
   "cell_type": "markdown",
   "metadata": {},
   "source": [
    "## My practice exercise of Joel Grus' example\n",
    "from http://joelgrus.com/2016/05/23/fizz-buzz-in-tensorflow/\n",
    "\n",
    "My modifications:\n",
    "1. added one more hidden layer\n",
    "2. the binary encode array enlarge to 15 digits: 2^15 = 32,768"
   ]
  },
  {
   "cell_type": "code",
   "execution_count": 1,
   "metadata": {
    "collapsed": true
   },
   "outputs": [],
   "source": [
    "import numpy as np\n",
    "import tensorflow as tf"
   ]
  },
  {
   "cell_type": "code",
   "execution_count": 2,
   "metadata": {
    "collapsed": true
   },
   "outputs": [],
   "source": [
    "'''Encode the numbers as a binary array with given digits\n",
    "Note: x & 1 is for deciding if the x is 1 or 0 (odd or even)\n",
    "    >> is bitwise move from left to right\n",
    "'''\n",
    "def binary_encode(i, num_digits):\n",
    "    return np.array([i >> d & 1 for d in range(num_digits)])[::-1]"
   ]
  },
  {
   "cell_type": "code",
   "execution_count": 3,
   "metadata": {
    "collapsed": true
   },
   "outputs": [],
   "source": [
    "''' representations of Y'''\n",
    "def fizz_buzz_encode(i):\n",
    "    if   i % 3 == 0: return np.array([0, 0, 0, 1])\n",
    "    elif i % 5 == 0: return np.array([0, 0, 1, 0])\n",
    "    elif i %15 == 0: return np.array([0, 1, 0, 0])\n",
    "    else:            return np.array([1, 0, 0, 0])"
   ]
  },
  {
   "cell_type": "code",
   "execution_count": 4,
   "metadata": {},
   "outputs": [],
   "source": [
    "NUM_DIGITS = 15\n",
    "\n",
    "''' creating the training dataset, using list comprehension to create np.array\n",
    "if the range is 2^10 = 1,024\n",
    "if the range is 2^15 = 32,768\n",
    "if the range is 2^20 = 1,048,576\n",
    "'''\n",
    "trX = np.array([binary_encode(i, NUM_DIGITS) for i in range(1, 2**NUM_DIGITS)])\n",
    "trY = np.array([fizz_buzz_encode(i)          for i in range(1, 2**NUM_DIGITS)])"
   ]
  },
  {
   "cell_type": "code",
   "execution_count": 5,
   "metadata": {},
   "outputs": [],
   "source": [
    "NUM_HIDDEN = 100\n",
    "\n",
    "X = tf.placeholder(\"float\", [None, NUM_DIGITS])\n",
    "Y = tf.placeholder(\"float\", [None, 4])"
   ]
  },
  {
   "cell_type": "code",
   "execution_count": 6,
   "metadata": {},
   "outputs": [],
   "source": [
    "def init_weights(shape):\n",
    "    return tf.Variable(tf.random_normal(shape, stddev=0.01))\n",
    "\n",
    "w_in2hd  = init_weights([NUM_DIGITS, NUM_HIDDEN])\n",
    "w_hd2hd  = init_weights([NUM_HIDDEN, NUM_HIDDEN])\n",
    "w_hd2out = init_weights([NUM_HIDDEN, 4])"
   ]
  },
  {
   "cell_type": "code",
   "execution_count": 7,
   "metadata": {
    "collapsed": true
   },
   "outputs": [],
   "source": [
    "def model(X, w_in2hd, w_hd2hd, w_hd2out):\n",
    "    h1 = tf.nn.relu(tf.matmul(X, w_in2hd))\n",
    "    h2 = tf.nn.relu(tf.matmul(h1, w_hd2hd))\n",
    "    output_layer = tf.matmul(h2, w_hd2out)\n",
    "    return output_layer"
   ]
  },
  {
   "cell_type": "code",
   "execution_count": 8,
   "metadata": {
    "collapsed": true
   },
   "outputs": [],
   "source": [
    "py_x = model(X, w_in2hd, w_hd2hd, w_hd2out)"
   ]
  },
  {
   "cell_type": "code",
   "execution_count": 9,
   "metadata": {},
   "outputs": [],
   "source": [
    "cost = tf.reduce_mean(tf.nn.softmax_cross_entropy_with_logits(logits=py_x, labels=Y))\n",
    "train_op = tf.train.GradientDescentOptimizer(0.05).minimize(cost)"
   ]
  },
  {
   "cell_type": "code",
   "execution_count": 10,
   "metadata": {
    "collapsed": true
   },
   "outputs": [],
   "source": [
    "# The predict for us to see\n",
    "\n",
    "predict_op = tf.argmax(py_x, 1)"
   ]
  },
  {
   "cell_type": "code",
   "execution_count": 11,
   "metadata": {},
   "outputs": [],
   "source": [
    "def fizz_buzz(i, prediction):\n",
    "    output_cat = [str(i), 'fizz', 'buzz', 'fizzbuzz']\n",
    "    return output_cat[prediction]"
   ]
  },
  {
   "cell_type": "code",
   "execution_count": 12,
   "metadata": {},
   "outputs": [
    {
     "name": "stdout",
     "output_type": "stream",
     "text": [
      "WARNING:tensorflow:From <ipython-input-12-935559dcfe1e>:6: initialize_all_variables (from tensorflow.python.ops.variables) is deprecated and will be removed after 2017-03-02.\n",
      "Instructions for updating:\n",
      "Use `tf.global_variables_initializer` instead.\n",
      "0 0.533341471603\n",
      "100 0.533341471603\n",
      "200 0.651997436445\n",
      "300 0.878383739738\n",
      "400 0.99362163152\n",
      "500 0.998596148564\n",
      "600 0.999267555773\n",
      "700 0.999694814905\n",
      "800 0.999969481491\n",
      "900 0.999969481491\n",
      "1000 1.0\n",
      "1100 1.0\n",
      "1200 1.0\n",
      "1300 1.0\n",
      "1400 1.0\n",
      "['1' '2' 'fizzbuzz' '4' 'buzz' 'fizzbuzz' '7' '8' 'fizzbuzz' 'buzz' '11'\n",
      " 'fizzbuzz' '13' '14' 'fizzbuzz' '16' '17' 'fizzbuzz' '19' 'buzz'\n",
      " 'fizzbuzz' '22' '23' 'fizzbuzz' 'buzz' '26' 'fizzbuzz' '28' '29'\n",
      " 'fizzbuzz' '31' '32' 'fizzbuzz' '34' 'buzz' 'fizzbuzz' '37' '38'\n",
      " 'fizzbuzz' 'buzz' '41' 'fizzbuzz' '43' '44' 'fizzbuzz' '46' '47'\n",
      " 'fizzbuzz' '49' 'buzz' 'fizzbuzz' '52' '53' 'fizzbuzz' 'buzz' '56'\n",
      " 'fizzbuzz' '58' '59' 'fizzbuzz' '61' '62' 'fizzbuzz' '64' 'buzz'\n",
      " 'fizzbuzz' '67' '68' 'fizzbuzz' 'buzz' '71' 'fizzbuzz' '73' '74'\n",
      " 'fizzbuzz' '76' '77' 'fizzbuzz' '79' 'buzz' 'fizzbuzz' '82' '83'\n",
      " 'fizzbuzz' 'buzz' '86' 'fizzbuzz' '88' '89' 'fizzbuzz' '91' '92'\n",
      " 'fizzbuzz' '94' 'buzz' 'fizzbuzz' '97' '98' 'fizzbuzz' 'buzz']\n"
     ]
    }
   ],
   "source": [
    "BATCH_SIZE = 128\n",
    "NUM_EPOCH = 1500\n",
    "\n",
    "# create the graph in a session\n",
    "with tf.Session() as sess:\n",
    "    tf.initialize_all_variables().run()\n",
    "    \n",
    "    for epoch in range(NUM_EPOCH):\n",
    "        # Shuffle the data\n",
    "        p = np.random.permutation(range(len(trX)))\n",
    "        trX, trY = trX[p], trY[p]\n",
    "        \n",
    "        # Train in batch size with 128 inputs\n",
    "        for start in range(0, len(trX),BATCH_SIZE):\n",
    "            end = start + BATCH_SIZE\n",
    "            sess.run(train_op, feed_dict={X: trX[start:end], Y: trY[start:end]})\n",
    "        \n",
    "        # print current accuracy in each epoch\n",
    "        if epoch % 100 == 0:\n",
    "            print(epoch, np.mean(np.argmax(trY, axis=1) ==\n",
    "                             sess.run(predict_op, feed_dict={X: trX, Y: trY})))\n",
    "    \n",
    "    # predict Fizz Buzz\n",
    "    numbers = np.arange(1, 101)\n",
    "    teX = np.transpose(binary_encode(numbers, NUM_DIGITS))\n",
    "    teY = sess.run(predict_op, feed_dict={X: teX})\n",
    "    output = np.vectorize(fizz_buzz)(numbers, teY)\n",
    "    \n",
    "    print(output)"
   ]
  },
  {
   "cell_type": "code",
   "execution_count": null,
   "metadata": {
    "collapsed": true
   },
   "outputs": [],
   "source": []
  }
 ],
 "metadata": {
  "anaconda-cloud": {},
  "kernelspec": {
   "display_name": "Python [default]",
   "language": "python",
   "name": "python3"
  },
  "language_info": {
   "codemirror_mode": {
    "name": "ipython",
    "version": 3
   },
   "file_extension": ".py",
   "mimetype": "text/x-python",
   "name": "python",
   "nbconvert_exporter": "python",
   "pygments_lexer": "ipython3",
   "version": "3.5.2"
  }
 },
 "nbformat": 4,
 "nbformat_minor": 1
}
